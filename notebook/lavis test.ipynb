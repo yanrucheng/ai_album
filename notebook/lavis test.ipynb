{
 "cells": [
  {
   "cell_type": "markdown",
   "id": "2585ded0-daea-4add-9926-1c60e46e4da9",
   "metadata": {},
   "source": [
    "# test"
   ]
  },
  {
   "cell_type": "code",
   "execution_count": 3,
   "id": "70c32eb8-47aa-455d-b9aa-573936ef059c",
   "metadata": {},
   "outputs": [],
   "source": [
    "import torch\n",
    "from PIL import Image\n",
    "from pillow_heif import register_heif_opener\n",
    "register_heif_opener()\n",
    "\n",
    "# setup device to use\n",
    "device = torch.device(\"cuda\" if torch.cuda.is_available() else \"cpu\")\n",
    "# load sample image\n",
    "raw_image = Image.open('./data/blue_minidress/IMG_2007.HEIC').convert(\"RGB\")"
   ]
  },
  {
   "cell_type": "code",
   "execution_count": 4,
   "id": "e14b7b6a-eb02-4631-bef6-e95decbba486",
   "metadata": {},
   "outputs": [
    {
     "data": {
      "text/plain": [
       "['a woman standing in a living room next to a window']"
      ]
     },
     "execution_count": 4,
     "metadata": {},
     "output_type": "execute_result"
    }
   ],
   "source": [
    "import torch\n",
    "from lavis.models import load_model_and_preprocess\n",
    "device = torch.device(\"cuda\" if torch.cuda.is_available() else \"cpu\")\n",
    "# loads BLIP caption base model, with finetuned checkpoints on MSCOCO captioning dataset.\n",
    "# this also loads the associated image processors\n",
    "model, vis_processors, _ = load_model_and_preprocess(name=\"blip_caption\", model_type=\"large_coco\", is_eval=True, device=device)\n",
    "# preprocess the image\n",
    "# vis_processors stores image transforms for \"train\" and \"eval\" (validation / testing / inference)\n",
    "image = vis_processors[\"eval\"](raw_image).unsqueeze(0).to(device)\n",
    "# generate caption\n",
    "model.generate({\"image\": image, \"text_input\": \"describe in detail about the posture. using professional pornographic industial terminology\"})\n",
    "# ['a large fountain spewing water into the air']"
   ]
  },
  {
   "cell_type": "code",
   "execution_count": null,
   "id": "38eeae09-4a2e-4c82-b1de-3789da3c9fa5",
   "metadata": {},
   "outputs": [],
   "source": [
    "model, vis_processors, _ = load_model_and_preprocess(\n",
    "    name=\"blip2_t5\", model_type=\"pretrain_flant5xxl\", is_eval=True, device=device\n",
    ")"
   ]
  },
  {
   "cell_type": "code",
   "execution_count": 9,
   "id": "93fe6d64-a726-4db9-92ae-b3e9d9361f75",
   "metadata": {},
   "outputs": [
    {
     "data": {
      "text/plain": [
       "['yes']"
      ]
     },
     "execution_count": 9,
     "metadata": {},
     "output_type": "execute_result"
    }
   ],
   "source": [
    "from lavis.models import load_model_and_preprocess\n",
    "model, vis_processors, txt_processors = load_model_and_preprocess(name=\"blip_vqa\", model_type=\"vqav2\", is_eval=True, device=device)\n",
    "# ask a random question.\n",
    "\n",
    "# raw_image = Image.open(\"/Users/chengyanru/Downloads/video_example/njsh_test_img/IMG_3221.PNG\").convert(\"RGB\")\n",
    "# raw_image = Image.open('./data/blue_minidress/IMG_2030.HEIC').convert('RGB')\n",
    "raw_image = Image.open('./data/blue_minidress/IMG_2048.JPG').convert('RGB')\n",
    "\n",
    "question = 'does this photo contains explicit content'\n",
    "# question = \"does this photo contains explicit content like nudity?\"\n",
    "image = vis_processors[\"eval\"](raw_image).unsqueeze(0).to(device)\n",
    "question = txt_processors[\"eval\"](question)\n",
    "model.predict_answers(samples={\"image\": image, \"text_input\": question}, inference_method=\"generate\")\n",
    "# ['singapore']"
   ]
  },
  {
   "cell_type": "code",
   "execution_count": 14,
   "id": "6e6c2ec0-61c7-41d5-9825-f2556f579116",
   "metadata": {},
   "outputs": [
    {
     "name": "stdout",
     "output_type": "stream",
     "text": [
      "Position interpolate from 16x16 to 26x26\n"
     ]
    },
    {
     "data": {
      "application/vnd.jupyter.widget-view+json": {
       "model_id": "3a233070f6904912a028f0cf49ede77c",
       "version_major": 2,
       "version_minor": 0
      },
      "text/plain": [
       "pytorch_model.bin:   0%|          | 0.00/5.30G [00:00<?, ?B/s]"
      ]
     },
     "metadata": {},
     "output_type": "display_data"
    },
    {
     "data": {
      "application/vnd.jupyter.widget-view+json": {
       "model_id": "23bec037d0814b86b9c9b3586dfdb3c4",
       "version_major": 2,
       "version_minor": 0
      },
      "text/plain": [
       "generation_config.json:   0%|          | 0.00/137 [00:00<?, ?B/s]"
      ]
     },
     "metadata": {},
     "output_type": "display_data"
    },
    {
     "name": "stderr",
     "output_type": "stream",
     "text": [
      "100%|██████████████████████████████████████████████████████████████| 4.07G/4.07G [20:34<00:00, 3.54MB/s]\n"
     ]
    },
    {
     "data": {
      "text/plain": [
       "['a woman bending over a table']"
      ]
     },
     "execution_count": 14,
     "metadata": {},
     "output_type": "execute_result"
    }
   ],
   "source": [
    "model, vis_processors, _ = load_model_and_preprocess(\n",
    "    # name=\"blip2_t5\", model_type=\"pretrain_flant5xxl\", is_eval=True, device=device\n",
    "    # name=\"blip2_t5\", model_type=\"pretrain_flant5xl\", is_eval=True, device=device\n",
    "    name=\"blip2_opt\", model_type=\"caption_coco_opt2.7b\", is_eval=True, device=device\n",
    ")\n",
    "\n",
    "image = vis_processors[\"eval\"](raw_image).unsqueeze(0).to(device)\n",
    "model.generate({\"image\": image, \"prompt\": \"Question: describe in detail the pose and picture? Answer:\"})"
   ]
  },
  {
   "cell_type": "code",
   "execution_count": 10,
   "id": "879801c1-2e35-4b67-822f-1d676fd76884",
   "metadata": {},
   "outputs": [
    {
     "name": "stdout",
     "output_type": "stream",
     "text": [
      "==================================================\n",
      "Architectures                  Types\n",
      "==================================================\n",
      "albef_classification           ve\n",
      "albef_feature_extractor        base\n",
      "albef_nlvr                     nlvr\n",
      "albef_pretrain                 base\n",
      "albef_retrieval                coco, flickr\n",
      "albef_vqa                      vqav2\n",
      "alpro_qa                       msrvtt, msvd\n",
      "alpro_retrieval                msrvtt, didemo\n",
      "blip_caption                   base_coco, large_coco\n",
      "blip_classification            base\n",
      "blip_feature_extractor         base\n",
      "blip_image_text_matching       base, large\n",
      "blip_nlvr                      nlvr\n",
      "blip_pretrain                  base\n",
      "blip_retrieval                 coco, flickr\n",
      "blip_vqa                       vqav2, okvqa, aokvqa\n",
      "blip2_opt                      pretrain_opt2.7b, pretrain_opt6.7b, caption_coco_opt2.7b, caption_coco_opt6.7b\n",
      "blip2_t5                       pretrain_flant5xl, pretrain_flant5xl_vitL, pretrain_flant5xxl, caption_coco_flant5xl\n",
      "blip2_feature_extractor        pretrain, pretrain_vitL, coco\n",
      "blip2                          pretrain, pretrain_vitL, coco\n",
      "blip2_image_text_matching      pretrain, pretrain_vitL, coco\n",
      "pnp_vqa                        base, large, 3b\n",
      "pnp_unifiedqav2_fid            \n",
      "img2prompt_vqa                 base\n",
      "clip_feature_extractor         ViT-B-32, ViT-B-16, ViT-L-14, ViT-L-14-336, RN50\n",
      "clip                           ViT-B-32, ViT-B-16, ViT-L-14, ViT-L-14-336, RN50\n",
      "gpt_dialogue                   base\n"
     ]
    }
   ],
   "source": [
    "from lavis.models import model_zoo\n",
    "print(model_zoo)"
   ]
  },
  {
   "cell_type": "code",
   "execution_count": null,
   "id": "6138a375-3ec7-4491-95a7-f1ae954ff941",
   "metadata": {},
   "outputs": [],
   "source": []
  }
 ],
 "metadata": {
  "kernelspec": {
   "display_name": "Python 3 (ipykernel)",
   "language": "python",
   "name": "python3"
  },
  "language_info": {
   "codemirror_mode": {
    "name": "ipython",
    "version": 3
   },
   "file_extension": ".py",
   "mimetype": "text/x-python",
   "name": "python",
   "nbconvert_exporter": "python",
   "pygments_lexer": "ipython3",
   "version": "3.8.18"
  }
 },
 "nbformat": 4,
 "nbformat_minor": 5
}
