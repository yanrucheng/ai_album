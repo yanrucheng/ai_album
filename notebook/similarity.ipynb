{
 "cells": [
  {
   "cell_type": "code",
   "execution_count": 1,
   "id": "b3798669-5081-4503-90f3-3d1fd963c8a7",
   "metadata": {},
   "outputs": [],
   "source": [
    "from image_similarity import ImageSimilarity\n",
    "from utils import copy_file_as_cluster\n",
    "import pprint"
   ]
  },
  {
   "cell_type": "code",
   "execution_count": 2,
   "id": "65a6a1c0-debe-4952-a328-40671c994e99",
   "metadata": {},
   "outputs": [
    {
     "name": "stdout",
     "output_type": "stream",
     "text": [
      "Initializing ImageSimilarity...\n",
      "Loaded similarity model and image file paths.\n",
      "Initializing embeddings...\n"
     ]
    },
    {
     "name": "stderr",
     "output_type": "stream",
     "text": [
      "Initializing embeddings: 100%|███████████████████████████████████| 11/11 [00:02<00:00,  4.24it/s]\n"
     ]
    },
    {
     "name": "stdout",
     "output_type": "stream",
     "text": [
      "Caching similarities...\n"
     ]
    },
    {
     "name": "stderr",
     "output_type": "stream",
     "text": [
      "Caching similarities: 100%|████████████████████████████████████| 11/11 [00:00<00:00, 1484.85it/s]"
     ]
    },
    {
     "name": "stdout",
     "output_type": "stream",
     "text": [
      "Initialization complete.\n"
     ]
    },
    {
     "name": "stderr",
     "output_type": "stream",
     "text": [
      "\n"
     ]
    }
   ],
   "source": [
    "# Usage\n",
    "# folder_path = './data/YeonWooPinkBikini/'\n",
    "# folder_path = './data/blue_minidress/'\n",
    "folder_path = './data/mini_test/'\n",
    "s = ImageSimilarity(folder_path,\n",
    "                    batch_size=16,\n",
    "                    show_progress_bar=True)"
   ]
  },
  {
   "cell_type": "code",
   "execution_count": 3,
   "id": "fdaf1b9c-6abc-4e82-b8a3-098f8203d45e",
   "metadata": {},
   "outputs": [
    {
     "name": "stdout",
     "output_type": "stream",
     "text": [
      "Initializing captions...\n"
     ]
    },
    {
     "name": "stderr",
     "output_type": "stream",
     "text": [
      "Initializing captions: 100%|███████████████████████████████████| 11/11 [00:00<00:00, 3059.71it/s]\n"
     ]
    }
   ],
   "source": [
    "s.compute_all_captions()"
   ]
  },
  {
   "cell_type": "code",
   "execution_count": 4,
   "id": "b51450bd-abcf-4baf-b095-0a72b373c007",
   "metadata": {},
   "outputs": [
    {
     "name": "stdout",
     "output_type": "stream",
     "text": [
      "Initializing tags...\n"
     ]
    },
    {
     "name": "stderr",
     "output_type": "stream",
     "text": [
      "Initializing tags: 100%|████████████████████████████████████████| 11/11 [00:00<00:00, 352.29it/s]\n"
     ]
    }
   ],
   "source": [
    "s.compute_all_tags()"
   ]
  },
  {
   "cell_type": "code",
   "execution_count": 5,
   "id": "2d24d9e5-ae9e-4d87-a73f-ff832a9f1d36",
   "metadata": {},
   "outputs": [
    {
     "name": "stdout",
     "output_type": "stream",
     "text": [
      "{'ITMC-240106-A-Woman-Standing-In-Front-Of-A-Window-Holding-A-Cup': {'240106-A-Man-And-A-Woman-Kissing-On-A-Bench': ['./data/mini_test/IMG_2840.HEIC'],\n",
      "                                                                     '240106-A-Woman-Is-Sitting-On-A-Window-Sill': ['./data/mini_test/IMG_2041.HEIC'],\n",
      "                                                                     '240106-A-Woman-Laying-In-A-Bathtub-With-Her-Legs-In-The-Water': ['./data/mini_test/IMG_2726.HEIC'],\n",
      "                                                                     'ITMC-240106-A-Woman-With-A-Big-Ass-Riding-On-A-Bed': ['./data/mini_test/IMG_2076.MOV',\n",
      "                                                                                                                            './data/mini_test/IMG_2077.MOV'],\n",
      "                                                                     '[下体隐现-露胸]240106-A-Woman-In-White-Stockings-And-Stockings-Posing-On-A-Bench': ['./data/mini_test/IMG_2523.JPG',\n",
      "                                                                                                                                                    './data/mini_test/IMG_2529.MOV'],\n",
      "                                                                     '[胸隐现-臀隐现]240106-A-Woman-Standing-In-Front-Of-A-Window-Holding-A-Cup': ['./data/mini_test/IMG_2071.HEIC',\n",
      "                                                                                                                                             './data/mini_test/IMG_2073.HEIC'],\n",
      "                                                                     '[露臀]240106-A-Naked-Woman-Taking-A-Bath-In-A-Bathtub': ['./data/mini_test/IMG_2669.HEIC'],\n",
      "                                                                     '[露臀]240106-A-Woman-Laying-On-Top-Of-A-Bed-Next-To-A-Man': ['./data/mini_test/IMG_E2086.mov']}}\n"
     ]
    }
   ],
   "source": [
    "# clusters = s.cluster_images_with_hierarchical(distance_threshold=0.5)\n",
    "clusters = s.cluster_images_with_multilevel_hierarchical(distance_levels=[2, 0.5])\n",
    "pprint.pprint(clusters)"
   ]
  },
  {
   "cell_type": "code",
   "execution_count": 6,
   "id": "e4a92a61-6f2b-452d-b8b4-cdacf88b0756",
   "metadata": {},
   "outputs": [],
   "source": [
    "\n",
    "# Example usage\n",
    "# Assuming 'clusters' is your multi-level hierarchical cluster dictionary\n",
    "copy_file_as_cluster(clusters, './data/testoutput/')\n",
    "\n"
   ]
  },
  {
   "cell_type": "code",
   "execution_count": null,
   "id": "7c3b8e02-d915-4642-bc22-43e3271c84bb",
   "metadata": {},
   "outputs": [],
   "source": []
  },
  {
   "cell_type": "markdown",
   "id": "d31d9e9a-603f-44fc-bfd0-350bbdfbfb4a",
   "metadata": {},
   "source": [
    "## test"
   ]
  },
  {
   "cell_type": "code",
   "execution_count": null,
   "id": "6e0fa9f7-9374-4793-b2be-fb7a346ee557",
   "metadata": {},
   "outputs": [],
   "source": [
    "from media_questionare import MediaQuestionare\n",
    "\n",
    "mq = MediaQuestionare()\n",
    "\n",
    "mq.process_image(s.thumbnail_cache_manager.load(s.media_fps[0]))"
   ]
  },
  {
   "cell_type": "code",
   "execution_count": 57,
   "id": "58135e13-4ca5-4a08-b9e1-c28366c63752",
   "metadata": {},
   "outputs": [],
   "source": [
    "# Usage example\n",
    "# qa = ImageQuestionAnswerer(\"blip_vqa\", \"vqav2\")\n",
    "qa = ImageQuestionAnswerer(\"blip_caption\", \"large_coco\")\n",
    "\n",
    "# qa = ImageQuestionAnswerer(\"blip2_opt\", \"caption_coco_opt2.7b\")"
   ]
  },
  {
   "cell_type": "code",
   "execution_count": 50,
   "id": "14bb8447-c912-415a-8714-eee2a8197f37",
   "metadata": {},
   "outputs": [],
   "source": [
    "# img = s.thumbnail_cache_manager.load('./data/blue_minidress/IMG_2050.HEIC')\n",
    "# img = s.thumbnail_cache_manager.load('./data/blue_minidress/IMG_2661.HEIC')\n",
    "# img = s.thumbnail_cache_manager.load('./data/blue_minidress/IMG_2066.HEIC')\n",
    "# img = s.thumbnail_cache_manager.load('./data/blue_minidress/IMG_2840.HEIC')\n",
    "# img = s.thumbnail_cache_manager.load('./data/blue_minidress/IMG_2726.HEIC')\n",
    "img = s.thumbnail_cache_manager.load('./data/blue_minidress/IMG_2077.MOV')\n",
    "# img = s.thumbnail_cache_manager.load('./data/blue_minidress/IMG_2076.MOV')\n",
    "# img = s.thumbnail_cache_manager.load('./data/blue_minidress/IMG_2007.HEIC')"
   ]
  },
  {
   "cell_type": "code",
   "execution_count": null,
   "id": "8ea981f6-f255-4e72-81d1-f20b2a9e4130",
   "metadata": {},
   "outputs": [],
   "source": []
  }
 ],
 "metadata": {
  "kernelspec": {
   "display_name": "Python 3 (ipykernel)",
   "language": "python",
   "name": "python3"
  },
  "language_info": {
   "codemirror_mode": {
    "name": "ipython",
    "version": 3
   },
   "file_extension": ".py",
   "mimetype": "text/x-python",
   "name": "python",
   "nbconvert_exporter": "python",
   "pygments_lexer": "ipython3",
   "version": "3.8.18"
  }
 },
 "nbformat": 4,
 "nbformat_minor": 5
}
