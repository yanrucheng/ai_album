{
 "cells": [
  {
   "cell_type": "markdown",
   "id": "ed0574d5-4e5c-4a1e-9a46-58c978ef3864",
   "metadata": {},
   "source": [
    "# data loading"
   ]
  },
  {
   "cell_type": "code",
   "execution_count": 1,
   "id": "99509313-f07b-49ce-9a6a-515a01169687",
   "metadata": {},
   "outputs": [],
   "source": [
    "import pandas as pd\n",
    "\n",
    "from similarity_cluster import HierarchicalCluster\n",
    "from myllm import TextSimilarityCalculator\n",
    "from cache_manager import CacheManager"
   ]
  },
  {
   "cell_type": "code",
   "execution_count": 2,
   "id": "516b6efb-14f9-49ea-8d6b-d5f40724bb4f",
   "metadata": {},
   "outputs": [],
   "source": [
    "df1 = pd.read_csv('./data_cache/prod_historical_records1.csv')\n",
    "df2 = pd.read_csv('./data_cache/prod_historical_records2.csv')\n",
    "df = pd.concat([df1, df2])"
   ]
  },
  {
   "cell_type": "code",
   "execution_count": 21,
   "id": "d804ff73-6e95-43f8-ad36-bffca6322bd8",
   "metadata": {},
   "outputs": [
    {
     "data": {
      "text/html": [
       "<div>\n",
       "<style scoped>\n",
       "    .dataframe tbody tr th:only-of-type {\n",
       "        vertical-align: middle;\n",
       "    }\n",
       "\n",
       "    .dataframe tbody tr th {\n",
       "        vertical-align: top;\n",
       "    }\n",
       "\n",
       "    .dataframe thead th {\n",
       "        text-align: right;\n",
       "    }\n",
       "</style>\n",
       "<table border=\"1\" class=\"dataframe\">\n",
       "  <thead>\n",
       "    <tr style=\"text-align: right;\">\n",
       "      <th></th>\n",
       "      <th>created_at</th>\n",
       "      <th>question</th>\n",
       "      <th>conversation_id</th>\n",
       "      <th>cluster_key</th>\n",
       "      <th>project_id</th>\n",
       "    </tr>\n",
       "  </thead>\n",
       "  <tbody>\n",
       "    <tr>\n",
       "      <th>1365</th>\n",
       "      <td>2022/6/10 15:00</td>\n",
       "      <td>deeplink无法跳转</td>\n",
       "      <td>1372</td>\n",
       "      <td>NaN</td>\n",
       "      <td>375</td>\n",
       "    </tr>\n",
       "    <tr>\n",
       "      <th>1366</th>\n",
       "      <td>2022/6/10 15:01</td>\n",
       "      <td>无法跳转</td>\n",
       "      <td>1373</td>\n",
       "      <td>NaN</td>\n",
       "      <td>375</td>\n",
       "    </tr>\n",
       "    <tr>\n",
       "      <th>1367</th>\n",
       "      <td>2022/6/10 15:02</td>\n",
       "      <td>无法跳转</td>\n",
       "      <td>1374</td>\n",
       "      <td>NaN</td>\n",
       "      <td>375</td>\n",
       "    </tr>\n",
       "    <tr>\n",
       "      <th>1368</th>\n",
       "      <td>2022/6/10 15:03</td>\n",
       "      <td>无法跳转</td>\n",
       "      <td>1375</td>\n",
       "      <td>NaN</td>\n",
       "      <td>375</td>\n",
       "    </tr>\n",
       "    <tr>\n",
       "      <th>1369</th>\n",
       "      <td>2022/6/10 15:04</td>\n",
       "      <td>deeplink无法跳转</td>\n",
       "      <td>1376</td>\n",
       "      <td>NaN</td>\n",
       "      <td>375</td>\n",
       "    </tr>\n",
       "    <tr>\n",
       "      <th>...</th>\n",
       "      <td>...</td>\n",
       "      <td>...</td>\n",
       "      <td>...</td>\n",
       "      <td>...</td>\n",
       "      <td>...</td>\n",
       "    </tr>\n",
       "    <tr>\n",
       "      <th>5219</th>\n",
       "      <td>2022/9/14 14:43</td>\n",
       "      <td>share JSB image/url 参数来源</td>\n",
       "      <td>15226</td>\n",
       "      <td>NaN</td>\n",
       "      <td>375</td>\n",
       "    </tr>\n",
       "    <tr>\n",
       "      <th>5226</th>\n",
       "      <td>2022/9/14 14:46</td>\n",
       "      <td>抖极loaduri加载耗时增加</td>\n",
       "      <td>15233</td>\n",
       "      <td>NaN</td>\n",
       "      <td>375</td>\n",
       "    </tr>\n",
       "    <tr>\n",
       "      <th>5261</th>\n",
       "      <td>2022/9/14 16:23</td>\n",
       "      <td>极速版的shortcuts逻辑有同学知道在什么地方吗？</td>\n",
       "      <td>15268</td>\n",
       "      <td>NaN</td>\n",
       "      <td>375</td>\n",
       "    </tr>\n",
       "    <tr>\n",
       "      <th>5307</th>\n",
       "      <td>2022/9/14 18:40</td>\n",
       "      <td>激励广告</td>\n",
       "      <td>15314</td>\n",
       "      <td>NaN</td>\n",
       "      <td>375</td>\n",
       "    </tr>\n",
       "    <tr>\n",
       "      <th>5319</th>\n",
       "      <td>2022/9/14 19:40</td>\n",
       "      <td>抖音端内页面拉起第三方应用</td>\n",
       "      <td>15326</td>\n",
       "      <td>NaN</td>\n",
       "      <td>375</td>\n",
       "    </tr>\n",
       "  </tbody>\n",
       "</table>\n",
       "<p>187 rows × 5 columns</p>\n",
       "</div>"
      ],
      "text/plain": [
       "           created_at                     question  conversation_id  \\\n",
       "1365  2022/6/10 15:00                 deeplink无法跳转             1372   \n",
       "1366  2022/6/10 15:01                         无法跳转             1373   \n",
       "1367  2022/6/10 15:02                         无法跳转             1374   \n",
       "1368  2022/6/10 15:03                         无法跳转             1375   \n",
       "1369  2022/6/10 15:04                 deeplink无法跳转             1376   \n",
       "...               ...                          ...              ...   \n",
       "5219  2022/9/14 14:43     share JSB image/url 参数来源            15226   \n",
       "5226  2022/9/14 14:46              抖极loaduri加载耗时增加            15233   \n",
       "5261  2022/9/14 16:23  极速版的shortcuts逻辑有同学知道在什么地方吗？            15268   \n",
       "5307  2022/9/14 18:40                         激励广告            15314   \n",
       "5319  2022/9/14 19:40                抖音端内页面拉起第三方应用            15326   \n",
       "\n",
       "      cluster_key  project_id  \n",
       "1365          NaN         375  \n",
       "1366          NaN         375  \n",
       "1367          NaN         375  \n",
       "1368          NaN         375  \n",
       "1369          NaN         375  \n",
       "...           ...         ...  \n",
       "5219          NaN         375  \n",
       "5226          NaN         375  \n",
       "5261          NaN         375  \n",
       "5307          NaN         375  \n",
       "5319          NaN         375  \n",
       "\n",
       "[187 rows x 5 columns]"
      ]
     },
     "execution_count": 21,
     "metadata": {},
     "output_type": "execute_result"
    }
   ],
   "source": [
    "df[df.project_id == 375]"
   ]
  },
  {
   "cell_type": "code",
   "execution_count": 10,
   "id": "6c0af6f7-eefe-4b25-8a10-7ee8d998d82f",
   "metadata": {},
   "outputs": [
    {
     "data": {
      "text/html": [
       "<div>\n",
       "<style scoped>\n",
       "    .dataframe tbody tr th:only-of-type {\n",
       "        vertical-align: middle;\n",
       "    }\n",
       "\n",
       "    .dataframe tbody tr th {\n",
       "        vertical-align: top;\n",
       "    }\n",
       "\n",
       "    .dataframe thead th {\n",
       "        text-align: right;\n",
       "    }\n",
       "</style>\n",
       "<table border=\"1\" class=\"dataframe\">\n",
       "  <thead>\n",
       "    <tr style=\"text-align: right;\">\n",
       "      <th></th>\n",
       "      <th>created_at</th>\n",
       "      <th>question</th>\n",
       "      <th>conversation_id</th>\n",
       "      <th>cluster_key</th>\n",
       "    </tr>\n",
       "    <tr>\n",
       "      <th>project_id</th>\n",
       "      <th></th>\n",
       "      <th></th>\n",
       "      <th></th>\n",
       "      <th></th>\n",
       "    </tr>\n",
       "  </thead>\n",
       "  <tbody>\n",
       "    <tr>\n",
       "      <th>377</th>\n",
       "      <td>45</td>\n",
       "      <td>45</td>\n",
       "      <td>45</td>\n",
       "      <td>0</td>\n",
       "    </tr>\n",
       "    <tr>\n",
       "      <th>375</th>\n",
       "      <td>187</td>\n",
       "      <td>187</td>\n",
       "      <td>187</td>\n",
       "      <td>0</td>\n",
       "    </tr>\n",
       "    <tr>\n",
       "      <th>372</th>\n",
       "      <td>13</td>\n",
       "      <td>13</td>\n",
       "      <td>13</td>\n",
       "      <td>0</td>\n",
       "    </tr>\n",
       "    <tr>\n",
       "      <th>365</th>\n",
       "      <td>128</td>\n",
       "      <td>128</td>\n",
       "      <td>128</td>\n",
       "      <td>0</td>\n",
       "    </tr>\n",
       "    <tr>\n",
       "      <th>360</th>\n",
       "      <td>34</td>\n",
       "      <td>34</td>\n",
       "      <td>34</td>\n",
       "      <td>0</td>\n",
       "    </tr>\n",
       "    <tr>\n",
       "      <th>329</th>\n",
       "      <td>118</td>\n",
       "      <td>118</td>\n",
       "      <td>118</td>\n",
       "      <td>0</td>\n",
       "    </tr>\n",
       "    <tr>\n",
       "      <th>324</th>\n",
       "      <td>2730</td>\n",
       "      <td>2730</td>\n",
       "      <td>2730</td>\n",
       "      <td>0</td>\n",
       "    </tr>\n",
       "    <tr>\n",
       "      <th>315</th>\n",
       "      <td>1770</td>\n",
       "      <td>1770</td>\n",
       "      <td>1770</td>\n",
       "      <td>0</td>\n",
       "    </tr>\n",
       "    <tr>\n",
       "      <th>311</th>\n",
       "      <td>8103</td>\n",
       "      <td>8103</td>\n",
       "      <td>8103</td>\n",
       "      <td>0</td>\n",
       "    </tr>\n",
       "    <tr>\n",
       "      <th>305</th>\n",
       "      <td>124</td>\n",
       "      <td>124</td>\n",
       "      <td>124</td>\n",
       "      <td>0</td>\n",
       "    </tr>\n",
       "    <tr>\n",
       "      <th>301</th>\n",
       "      <td>2199</td>\n",
       "      <td>2199</td>\n",
       "      <td>2199</td>\n",
       "      <td>0</td>\n",
       "    </tr>\n",
       "  </tbody>\n",
       "</table>\n",
       "</div>"
      ],
      "text/plain": [
       "            created_at  question  conversation_id  cluster_key\n",
       "project_id                                                    \n",
       "377                 45        45               45            0\n",
       "375                187       187              187            0\n",
       "372                 13        13               13            0\n",
       "365                128       128              128            0\n",
       "360                 34        34               34            0\n",
       "329                118       118              118            0\n",
       "324               2730      2730             2730            0\n",
       "315               1770      1770             1770            0\n",
       "311               8103      8103             8103            0\n",
       "305                124       124              124            0\n",
       "301               2199      2199             2199            0"
      ]
     },
     "execution_count": 10,
     "metadata": {},
     "output_type": "execute_result"
    }
   ],
   "source": [
    "result = df.groupby('project_id').count().sort_values(by='project_id', ascending=False)\n",
    "result"
   ]
  },
  {
   "cell_type": "code",
   "execution_count": 12,
   "id": "1073221b-65d2-4bec-9290-d35ebafec18d",
   "metadata": {},
   "outputs": [],
   "source": [
    "class TextSimilarity:\n",
    "\n",
    "    def __init__(self, txts, cache_location='./data_cache/text_similarity_cache'):\n",
    "\n",
    "        self.txts = txts\n",
    "        self.sim = TextSimilarityCalculator()\n",
    "        self.emb_d = {}\n",
    "        self.embedding_cache_manager = CacheManager(\n",
    "                                            target_path=cache_location,\n",
    "                                            cache_tag=\"emb\",\n",
    "                                            generate_func=self._get_embedding,\n",
    "                                            cache_key_type='hashable',\n",
    "                                            format_str=\"{base}.npy\") \n",
    "        \n",
    "        self.hcluster = HierarchicalCluster(data=txts,\n",
    "                                            caption_func=lambda x:x,\n",
    "                                            embedding_func=self.embedding_cache_manager.load,\n",
    "                                            similarity_func=self.sim.similarity_func,\n",
    "                                           )\n",
    "        \n",
    "        # self._load_all_embedding()\n",
    "\n",
    "    def _get_embedding(self, txt):\n",
    "        return self.emb_d[txt]\n",
    "\n",
    "    def _load_all_embedding(self, batch_size=32):\n",
    "        for i in range(0, len(self.txts), batch_size):\n",
    "            \n",
    "            batch = self.txts[i:i + batch_size]\n",
    "            batch_embeddings = self.sim.get_embeddings(batch, batch_size=batch_size, show_progress_bar=True)\n",
    "\n",
    "            for txt, emb in zip(batch, batch_embeddings):\n",
    "                self.emb_d[txt] = emb\n",
    "                _ = self.embedding_cache_manager.load(txt)\n",
    "\n",
    "        "
   ]
  },
  {
   "cell_type": "code",
   "execution_count": 22,
   "id": "1d34f98a-0c63-4e5e-b1b9-e3097882d646",
   "metadata": {},
   "outputs": [],
   "source": [
    "txts = df[df.project_id == 375].question.to_list()"
   ]
  },
  {
   "cell_type": "code",
   "execution_count": 23,
   "id": "8d4bfe2b-bdf2-4d33-9458-dde9aeb9a6cb",
   "metadata": {},
   "outputs": [],
   "source": [
    "ts = TextSimilarity(txts)"
   ]
  },
  {
   "cell_type": "code",
   "execution_count": 34,
   "id": "693be3ed-6cba-464e-9855-e3f395200369",
   "metadata": {},
   "outputs": [],
   "source": [
    "d = ts.hcluster.cluster(distance_levels=[0.8])"
   ]
  },
  {
   "cell_type": "code",
   "execution_count": 35,
   "id": "7658da72-29d9-4ff7-86bc-fe66734eaab7",
   "metadata": {},
   "outputs": [
    {
     "name": "stdout",
     "output_type": "stream",
     "text": [
      "{'1': ['1', '1', '1'],\n",
      " 'Aweme://Feed无法跳转': ['aweme://feed无法跳转',\n",
      "                      'aweme://feed无法打开',\n",
      "                      'aweme://feed无法打开'],\n",
      " 'Aweme_Lite-Jsb-中的-View.Onshow，内部逻辑确认': ['aweme_lite JSB 中的 '\n",
      "                                          'view.onShow，内部逻辑确认',\n",
      "                                          '@bridge/aweme_lite  onshow '\n",
      "                                          'jsb，打开小游戏页面，触发了一轮 onshow   onhide',\n",
      "                                          'RouteMonitorCommonUtils: '\n",
      "                                          'java.lang.reflect.InvocationTargetException'],\n",
      " 'Deeplink': ['deeplink', 'deeplink', 'deeplink', 'deeplink'],\n",
      " 'Deeplink无法跳转': ['deeplink无法跳转', 'deeplink无法跳转'],\n",
      " 'Deeplink跳转问题': ['deeplink跳转问题', 'deeplink 问题咨询', 'deeplink白名单配置问题'],\n",
      " 'General的Share二维码加载不出来': ['general的share二维码加载不出来',\n",
      "                           '鹊桥安卓生成share分享图片但是扫不出来',\n",
      "                           '安卓版本扫描旧分享面板的mayday容器的二维码后，打不开详情页面'],\n",
      " '分享': ['分享', '分享', '分享'],\n",
      " '分享回流': ['分享回流', '分享回流', '分享回流'],\n",
      " '分享回流测试': ['分享回流测试', '分享回流oncall主备rd测试'],\n",
      " '剪切板有口令时，首次安装打开抖极，需要再次冷启动才展示回流弹窗，且回流弹窗展示时覆盖在青少年弹窗上': ['剪切板有口令时，首次安装打开抖极，需要再次冷启动才展示回流弹窗，且回流弹窗展示时覆盖在青少年弹窗上',\n",
      "                                                       '问个问题，抖音主端上目前新用户一生一次的大红包弹窗和活动冷启动弹窗哪个优先级高，是新用户大红包弹窗吧？'],\n",
      " '口令分享失败，提示等等再试一次': ['轻任务结案页面分享链接不出回流弹窗',\n",
      "                     '口令分享失败，提示等等再试一次',\n",
      "                     'share 口令分享无反应',\n",
      "                     '抖音分享面板如何分享口令，走文档的demo 不成功',\n",
      "                     'share JSB 口令分享失败'],\n",
      " '壁纸': ['动态壁纸', '动态壁纸', '动态壁纸', '动态壁纸', '壁纸', '动态壁纸安装'],\n",
      " '安卓审核自见视频，分享时出限制分享的弹窗，点击弹窗上查看详情按钮，App崩溃': ['安卓审核自见视频，分享时出限制分享的弹窗，点击弹窗上查看详情按钮，app崩溃',\n",
      "                                            'applist的安卓授权弹窗，上传的授权信息，时机不对',\n",
      "                                            '安卓内测包，会偷偷升级版本，导致高级开发工具调不出来'],\n",
      " '安卓点击一次Zlink出现两次跳转': ['安卓点击一次zlink出现两次跳转',\n",
      "                       '安卓点击一次zlink出现两次跳转',\n",
      "                       '安卓点击一次zlink出现两次跳转'],\n",
      " '客态无动态壁纸设置按钮': ['客态无动态壁纸设置按钮', '动态壁纸按钮不展示'],\n",
      " '容器': ['容器', 'Bullet容器'],\n",
      " '抖音端内页面拉起第三方应用': ['从第三方app打开/返回抖音app',\n",
      "                   '抖极安卓，互关好友视频分享面板有抖音码分享',\n",
      "                   '抖音内h5唤起其他App',\n",
      "                   '跨端打开抖音活动页咨询',\n",
      "                   '抖音端内页面拉起第三方应用'],\n",
      " '抖音识别外部链接进入抖音以及启动来源的标识': ['获取当次抖音的启动方式',\n",
      "                           '抖音，抖音lite webview 打开zlink 链接，马上跳转错误页面',\n",
      "                           '抖音识别外部链接进入抖音以及启动来源的标识'],\n",
      " '无法跳转': ['无法跳转', '无法跳转', '无法跳转'],\n",
      " '站外分享咨询': ['站外分享咨询', 'oncall 站外分享咨询', '站外分享h5回流咨询'],\n",
      " '路由': ['路由', '路由', '路由']}\n"
     ]
    }
   ],
   "source": [
    "import pprint\n",
    "\n",
    "def extract_top_10_percent(d, top=0.2):\n",
    "    # Calculate the number of items to include (10% of the dictionary's length)\n",
    "    num_items = int(len(d) * top) or 1\n",
    "\n",
    "    # Sort the dictionary by the length of the list in each key-value pair and get the top 10%\n",
    "    top_10_percent = dict(sorted(d.items(), key=lambda item: len(item[1]), reverse=True)[:num_items])\n",
    "\n",
    "    return top_10_percent\n",
    "\n",
    "\n",
    "d_ = extract_top_10_percent(d, top=0.2)\n",
    "pprint.pprint(d_)"
   ]
  },
  {
   "cell_type": "code",
   "execution_count": 10,
   "id": "05f4ab8a-3a32-45f7-8f86-9e880ce68143",
   "metadata": {},
   "outputs": [
    {
     "data": {
      "text/plain": [
       "'/Users/chengyanru/repos/ai_album/app/data_cache/.similarity_cache/text_similarity_cache/2458370899305644052.npy'"
      ]
     },
     "execution_count": 10,
     "metadata": {},
     "output_type": "execute_result"
    }
   ],
   "source": [
    "ts.embedding_cache_manager._to_cache_path_func('ceshi')"
   ]
  },
  {
   "cell_type": "code",
   "execution_count": 3,
   "id": "eaf17ba7-462a-4af2-b859-87ef579c8479",
   "metadata": {},
   "outputs": [
    {
     "data": {
      "text/html": [
       "<div>\n",
       "<style scoped>\n",
       "    .dataframe tbody tr th:only-of-type {\n",
       "        vertical-align: middle;\n",
       "    }\n",
       "\n",
       "    .dataframe tbody tr th {\n",
       "        vertical-align: top;\n",
       "    }\n",
       "\n",
       "    .dataframe thead th {\n",
       "        text-align: right;\n",
       "    }\n",
       "</style>\n",
       "<table border=\"1\" class=\"dataframe\">\n",
       "  <thead>\n",
       "    <tr style=\"text-align: right;\">\n",
       "      <th></th>\n",
       "      <th>created_at</th>\n",
       "      <th>question</th>\n",
       "      <th>conversation_id</th>\n",
       "      <th>cluster_key</th>\n",
       "      <th>project_id</th>\n",
       "    </tr>\n",
       "  </thead>\n",
       "  <tbody>\n",
       "    <tr>\n",
       "      <th>0</th>\n",
       "      <td>2022/4/28 15:06</td>\n",
       "      <td>ceshi</td>\n",
       "      <td>7</td>\n",
       "      <td>NaN</td>\n",
       "      <td>329</td>\n",
       "    </tr>\n",
       "    <tr>\n",
       "      <th>1</th>\n",
       "      <td>2022/4/28 15:07</td>\n",
       "      <td>yuyuy</td>\n",
       "      <td>8</td>\n",
       "      <td>NaN</td>\n",
       "      <td>329</td>\n",
       "    </tr>\n",
       "    <tr>\n",
       "      <th>2</th>\n",
       "      <td>2022/4/28 15:08</td>\n",
       "      <td>权限</td>\n",
       "      <td>9</td>\n",
       "      <td>NaN</td>\n",
       "      <td>329</td>\n",
       "    </tr>\n",
       "    <tr>\n",
       "      <th>3</th>\n",
       "      <td>2022/4/28 15:08</td>\n",
       "      <td>qewe</td>\n",
       "      <td>10</td>\n",
       "      <td>NaN</td>\n",
       "      <td>329</td>\n",
       "    </tr>\n",
       "    <tr>\n",
       "      <th>4</th>\n",
       "      <td>2022/4/28 15:09</td>\n",
       "      <td>权限</td>\n",
       "      <td>11</td>\n",
       "      <td>NaN</td>\n",
       "      <td>329</td>\n",
       "    </tr>\n",
       "    <tr>\n",
       "      <th>...</th>\n",
       "      <td>...</td>\n",
       "      <td>...</td>\n",
       "      <td>...</td>\n",
       "      <td>...</td>\n",
       "      <td>...</td>\n",
       "    </tr>\n",
       "    <tr>\n",
       "      <th>9995</th>\n",
       "      <td>2022/8/13 11:56</td>\n",
       "      <td>拍抖音白名单接口无法删除和添加</td>\n",
       "      <td>10002</td>\n",
       "      <td>NaN</td>\n",
       "      <td>324</td>\n",
       "    </tr>\n",
       "    <tr>\n",
       "      <th>9996</th>\n",
       "      <td>2022/8/13 12:16</td>\n",
       "      <td>直播间没有多人k歌功能</td>\n",
       "      <td>10003</td>\n",
       "      <td>NaN</td>\n",
       "      <td>311</td>\n",
       "    </tr>\n",
       "    <tr>\n",
       "      <th>9997</th>\n",
       "      <td>2022/8/13 13:01</td>\n",
       "      <td>修改订单状态</td>\n",
       "      <td>10004</td>\n",
       "      <td>NaN</td>\n",
       "      <td>324</td>\n",
       "    </tr>\n",
       "    <tr>\n",
       "      <th>9998</th>\n",
       "      <td>2022/8/13 13:21</td>\n",
       "      <td>直播伴侣画面每次调试好之后依然画面会乱掉 已经万能操作过了</td>\n",
       "      <td>10005</td>\n",
       "      <td>NaN</td>\n",
       "      <td>311</td>\n",
       "    </tr>\n",
       "    <tr>\n",
       "      <th>9999</th>\n",
       "      <td>2022/8/13 13:26</td>\n",
       "      <td>UID  63503960370  直播的时候， 别人有的特效道具自己没有，例如超长西瓜，还...</td>\n",
       "      <td>10006</td>\n",
       "      <td>NaN</td>\n",
       "      <td>311</td>\n",
       "    </tr>\n",
       "  </tbody>\n",
       "</table>\n",
       "<p>10000 rows × 5 columns</p>\n",
       "</div>"
      ],
      "text/plain": [
       "           created_at                                           question  \\\n",
       "0     2022/4/28 15:06                                              ceshi   \n",
       "1     2022/4/28 15:07                                              yuyuy   \n",
       "2     2022/4/28 15:08                                                 权限   \n",
       "3     2022/4/28 15:08                                               qewe   \n",
       "4     2022/4/28 15:09                                                 权限   \n",
       "...               ...                                                ...   \n",
       "9995  2022/8/13 11:56                                    拍抖音白名单接口无法删除和添加   \n",
       "9996  2022/8/13 12:16                                        直播间没有多人k歌功能   \n",
       "9997  2022/8/13 13:01                                             修改订单状态   \n",
       "9998  2022/8/13 13:21                      直播伴侣画面每次调试好之后依然画面会乱掉 已经万能操作过了   \n",
       "9999  2022/8/13 13:26  UID  63503960370  直播的时候， 别人有的特效道具自己没有，例如超长西瓜，还...   \n",
       "\n",
       "      conversation_id  cluster_key  project_id  \n",
       "0                   7          NaN         329  \n",
       "1                   8          NaN         329  \n",
       "2                   9          NaN         329  \n",
       "3                  10          NaN         329  \n",
       "4                  11          NaN         329  \n",
       "...               ...          ...         ...  \n",
       "9995            10002          NaN         324  \n",
       "9996            10003          NaN         311  \n",
       "9997            10004          NaN         324  \n",
       "9998            10005          NaN         311  \n",
       "9999            10006          NaN         311  \n",
       "\n",
       "[10000 rows x 5 columns]"
      ]
     },
     "execution_count": 3,
     "metadata": {},
     "output_type": "execute_result"
    }
   ],
   "source": [
    "df"
   ]
  },
  {
   "cell_type": "code",
   "execution_count": null,
   "id": "7043bfca-7a5d-4720-b732-ddaa485fefc0",
   "metadata": {},
   "outputs": [],
   "source": []
  },
  {
   "cell_type": "code",
   "execution_count": null,
   "id": "84b0aa43-b888-4de5-9550-955bfe1a41bc",
   "metadata": {},
   "outputs": [],
   "source": []
  },
  {
   "cell_type": "code",
   "execution_count": null,
   "id": "983d0d06-979e-4cc2-b2d2-eec73ede5a81",
   "metadata": {},
   "outputs": [],
   "source": []
  },
  {
   "cell_type": "markdown",
   "id": "4f57dee5-91d6-4b28-a2a3-fd54dba03f70",
   "metadata": {},
   "source": [
    "# test"
   ]
  },
  {
   "cell_type": "code",
   "execution_count": 1,
   "id": "5d24b281-d475-4068-a0c0-3021a02cf5f8",
   "metadata": {},
   "outputs": [],
   "source": [
    "import sys\n",
    "\n",
    "sys.path.append('..')\n",
    "from similarities import BertSimilarity\n",
    "\n",
    "sentences = ['如何更换花呗绑定银行卡',\n",
    "             '花呗更改绑定银行卡']\n",
    "corpus = [\n",
    "    '花呗更改绑定银行卡',\n",
    "    '我什么时候开通了花呗',\n",
    "    '俄罗斯警告乌克兰反对欧盟协议',\n",
    "    '暴风雨掩埋了东北部；新泽西16英寸的降雪',\n",
    "    '中央情报局局长访问以色列叙利亚会谈',\n",
    "    '人在巴基斯坦基地的炸弹袭击中丧生',\n",
    "]"
   ]
  },
  {
   "cell_type": "code",
   "execution_count": null,
   "id": "8e9866cb-01a0-4bb5-98b5-76c9fe56d539",
   "metadata": {},
   "outputs": [],
   "source": []
  },
  {
   "cell_type": "code",
   "execution_count": 2,
   "id": "c3c24aba-ed8e-40ce-a773-33d5f1be581d",
   "metadata": {},
   "outputs": [
    {
     "data": {
      "application/vnd.jupyter.widget-view+json": {
       "model_id": "b91e42767466479aa5d42d943dd04ff9",
       "version_major": 2,
       "version_minor": 0
      },
      "text/plain": [
       "tokenizer_config.json:   0%|          | 0.00/319 [00:00<?, ?B/s]"
      ]
     },
     "metadata": {},
     "output_type": "display_data"
    },
    {
     "data": {
      "application/vnd.jupyter.widget-view+json": {
       "model_id": "f6132dbd35b34125a0048976f72080ed",
       "version_major": 2,
       "version_minor": 0
      },
      "text/plain": [
       "vocab.txt:   0%|          | 0.00/110k [00:00<?, ?B/s]"
      ]
     },
     "metadata": {},
     "output_type": "display_data"
    },
    {
     "data": {
      "application/vnd.jupyter.widget-view+json": {
       "model_id": "74d8eb521366405a8db2bac6778fb382",
       "version_major": 2,
       "version_minor": 0
      },
      "text/plain": [
       "special_tokens_map.json:   0%|          | 0.00/112 [00:00<?, ?B/s]"
      ]
     },
     "metadata": {},
     "output_type": "display_data"
    },
    {
     "data": {
      "application/vnd.jupyter.widget-view+json": {
       "model_id": "d9a4134a42f14fac9ab52ebbf013c093",
       "version_major": 2,
       "version_minor": 0
      },
      "text/plain": [
       "config.json:   0%|          | 0.00/856 [00:00<?, ?B/s]"
      ]
     },
     "metadata": {},
     "output_type": "display_data"
    },
    {
     "data": {
      "application/vnd.jupyter.widget-view+json": {
       "model_id": "4db83e22846c44baac6c655cb5860cee",
       "version_major": 2,
       "version_minor": 0
      },
      "text/plain": [
       "pytorch_model.bin:   0%|          | 0.00/409M [00:00<?, ?B/s]"
      ]
     },
     "metadata": {},
     "output_type": "display_data"
    },
    {
     "name": "stderr",
     "output_type": "stream",
     "text": [
      "\u001b[32m2024-01-08 10:24:05.679\u001b[0m | \u001b[34m\u001b[1mDEBUG   \u001b[0m | \u001b[36mtext2vec.sentence_model\u001b[0m:\u001b[36m__init__\u001b[0m:\u001b[36m80\u001b[0m - \u001b[34m\u001b[1mUse device: cpu\u001b[0m\n"
     ]
    },
    {
     "name": "stdout",
     "output_type": "stream",
     "text": [
      "Similarity: BertSimilarity, matching_model: <SentenceModel: shibing624/text2vec-base-chinese, encoder_type: MEAN, max_seq_length: 256, emb_dim: 768>\n",
      "如何更换花呗绑定银行卡 vs 花呗更改绑定银行卡, score: 0.8551\n"
     ]
    }
   ],
   "source": [
    "model = BertSimilarity(model_name_or_path=\"shibing624/text2vec-base-chinese\")\n",
    "print(model)\n",
    "similarity_score = model.similarity(sentences[0], sentences[1])\n",
    "print(f\"{sentences[0]} vs {sentences[1]}, score: {float(similarity_score):.4f}\")"
   ]
  },
  {
   "cell_type": "code",
   "execution_count": 3,
   "id": "fd97876f-6e26-4e56-942a-bdebe349d54e",
   "metadata": {},
   "outputs": [
    {
     "name": "stdout",
     "output_type": "stream",
     "text": [
      "--------------------------------------------------\n",
      "\n"
     ]
    },
    {
     "name": "stderr",
     "output_type": "stream",
     "text": [
      "\u001b[32m2024-01-08 10:24:12.742\u001b[0m | \u001b[1mINFO    \u001b[0m | \u001b[36msimilarities.bert_similarity\u001b[0m:\u001b[36madd_corpus\u001b[0m:\u001b[36m108\u001b[0m - \u001b[1mStart computing corpus embeddings, new docs: 6\u001b[0m\n"
     ]
    },
    {
     "name": "stdout",
     "output_type": "stream",
     "text": [
      "[[0.85514647 0.72119576 0.14502521 0.21666762 0.25171375 0.08089051]\n",
      " [1.0000001  0.6807437  0.17136604 0.21621692 0.27282718 0.12791362]]\n",
      "如何更换花呗绑定银行卡 vs 花呗更改绑定银行卡, score: 0.8551\n",
      "如何更换花呗绑定银行卡 vs 我什么时候开通了花呗, score: 0.7212\n",
      "如何更换花呗绑定银行卡 vs 俄罗斯警告乌克兰反对欧盟协议, score: 0.1450\n",
      "如何更换花呗绑定银行卡 vs 暴风雨掩埋了东北部；新泽西16英寸的降雪, score: 0.2167\n",
      "如何更换花呗绑定银行卡 vs 中央情报局局长访问以色列叙利亚会谈, score: 0.2517\n",
      "如何更换花呗绑定银行卡 vs 人在巴基斯坦基地的炸弹袭击中丧生, score: 0.0809\n",
      "花呗更改绑定银行卡 vs 花呗更改绑定银行卡, score: 1.0000\n",
      "花呗更改绑定银行卡 vs 我什么时候开通了花呗, score: 0.6807\n",
      "花呗更改绑定银行卡 vs 俄罗斯警告乌克兰反对欧盟协议, score: 0.1714\n",
      "花呗更改绑定银行卡 vs 暴风雨掩埋了东北部；新泽西16英寸的降雪, score: 0.2162\n",
      "花呗更改绑定银行卡 vs 中央情报局局长访问以色列叙利亚会谈, score: 0.2728\n",
      "花呗更改绑定银行卡 vs 人在巴基斯坦基地的炸弹袭击中丧生, score: 0.1279\n",
      "--------------------------------------------------\n",
      "\n"
     ]
    },
    {
     "data": {
      "application/vnd.jupyter.widget-view+json": {
       "model_id": "d0de5d52c01841a3851a70699a9436da",
       "version_major": 2,
       "version_minor": 0
      },
      "text/plain": [
       "Batches:   0%|          | 0/1 [00:00<?, ?it/s]"
      ]
     },
     "metadata": {},
     "output_type": "display_data"
    },
    {
     "name": "stderr",
     "output_type": "stream",
     "text": [
      "\u001b[32m2024-01-08 10:24:13.046\u001b[0m | \u001b[1mINFO    \u001b[0m | \u001b[36msimilarities.bert_similarity\u001b[0m:\u001b[36madd_corpus\u001b[0m:\u001b[36m119\u001b[0m - \u001b[1mAdd 6 docs, total: 6, emb len: 6\u001b[0m\n"
     ]
    },
    {
     "name": "stdout",
     "output_type": "stream",
     "text": [
      "{0: {0: 0.8551464676856995, 1: 0.7211957573890686, 4: 0.25171375274658203}, 1: {0: 1.0000001192092896, 1: 0.6807436943054199, 4: 0.2728271782398224}}\n",
      "query: 如何更换花呗绑定银行卡\n",
      "search top 3:\n",
      "\t花呗更改绑定银行卡: 0.8551\n",
      "\t我什么时候开通了花呗: 0.7212\n",
      "\t中央情报局局长访问以色列叙利亚会谈: 0.2517\n",
      "query: 花呗更改绑定银行卡\n",
      "search top 3:\n",
      "\t花呗更改绑定银行卡: 1.0000\n",
      "\t我什么时候开通了花呗: 0.6807\n",
      "\t中央情报局局长访问以色列叙利亚会谈: 0.2728\n",
      "--------------------------------------------------\n",
      "\n",
      "{0: {0: 0.8551464080810547, 1: 0.7211955785751343, 4: 0.2517136335372925}}\n"
     ]
    }
   ],
   "source": [
    "print('-' * 50 + '\\n')\n",
    "# 2.Compute similarity between two list\n",
    "similarity_scores = model.similarity(sentences, corpus)\n",
    "print(similarity_scores.numpy())\n",
    "for i in range(len(sentences)):\n",
    "    for j in range(len(corpus)):\n",
    "        print(f\"{sentences[i]} vs {corpus[j]}, score: {similarity_scores.numpy()[i][j]:.4f}\")\n",
    "\n",
    "print('-' * 50 + '\\n')\n",
    "# 3.Semantic Search\n",
    "model.add_corpus(corpus)\n",
    "res = model.most_similar(queries=sentences, topn=3)\n",
    "print(res)\n",
    "for q_id, id_score_dict in res.items():\n",
    "    print('query:', sentences[q_id])\n",
    "    print(\"search top 3:\")\n",
    "    for corpus_id, s in id_score_dict.items():\n",
    "        print(f'\\t{model.corpus[corpus_id]}: {s:.4f}')\n",
    "\n",
    "print('-' * 50 + '\\n')\n",
    "print(model.search(sentences[0], topn=3))"
   ]
  },
  {
   "cell_type": "code",
   "execution_count": null,
   "id": "4eab33eb-e9ce-4810-8688-b3fde8d29109",
   "metadata": {},
   "outputs": [],
   "source": []
  }
 ],
 "metadata": {
  "kernelspec": {
   "display_name": "Python 3 (ipykernel)",
   "language": "python",
   "name": "python3"
  },
  "language_info": {
   "codemirror_mode": {
    "name": "ipython",
    "version": 3
   },
   "file_extension": ".py",
   "mimetype": "text/x-python",
   "name": "python",
   "nbconvert_exporter": "python",
   "pygments_lexer": "ipython3",
   "version": "3.8.18"
  }
 },
 "nbformat": 4,
 "nbformat_minor": 5
}
