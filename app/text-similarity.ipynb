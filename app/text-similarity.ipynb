{
 "cells": [
  {
   "cell_type": "markdown",
   "id": "ed0574d5-4e5c-4a1e-9a46-58c978ef3864",
   "metadata": {},
   "source": [
    "# data loading"
   ]
  },
  {
   "cell_type": "code",
   "execution_count": 1,
   "id": "99509313-f07b-49ce-9a6a-515a01169687",
   "metadata": {},
   "outputs": [],
   "source": [
    "import pandas as pd\n",
    "\n",
    "from similarity_cluster import HierarchicalCluster\n",
    "from myllm import TextSimilarityCalculator\n",
    "from cache_manager import CacheManager"
   ]
  },
  {
   "cell_type": "code",
   "execution_count": 2,
   "id": "516b6efb-14f9-49ea-8d6b-d5f40724bb4f",
   "metadata": {},
   "outputs": [],
   "source": [
    "df = pd.read_csv('./data_cache/prod_historical_records1.csv')"
   ]
  },
  {
   "cell_type": "code",
   "execution_count": 5,
   "id": "1073221b-65d2-4bec-9290-d35ebafec18d",
   "metadata": {},
   "outputs": [],
   "source": [
    "class TextSimilarity:\n",
    "\n",
    "    def __init__(self, txts, cache_location='./data_cache/text_similarity_cache'):\n",
    "\n",
    "        self.txts = txts\n",
    "        self.sim = TextSimilarityCalculator()\n",
    "        self.emb_d = {}\n",
    "        self.embedding_cache_manager = CacheManager(\n",
    "                                            target_path=cache_location,\n",
    "                                            cache_tag=\"emb\",\n",
    "                                            generate_func=self._get_embedding,\n",
    "                                            cache_key_type='hashable',\n",
    "                                            format_str=\"{base}.npy\") \n",
    "        \n",
    "        self.hcluster = HierarchicalCluster(data=txts,\n",
    "                                            caption_func=lambda x:x,\n",
    "                                            embedding_func=self.embedding_cache_manager.load,\n",
    "                                            similarity_func=self.sim.similarity_func,\n",
    "                                           )\n",
    "        \n",
    "        # self._load_all_embedding()\n",
    "\n",
    "    def _get_embedding(self, txt):\n",
    "        return self.emb_d[txt]\n",
    "\n",
    "    def _load_all_embedding(self, batch_size=32):\n",
    "        for i in range(0, len(self.txts), batch_size):\n",
    "            \n",
    "            batch = self.txts[i:i + batch_size]\n",
    "            batch_embeddings = self.sim.get_embeddings(batch, batch_size=batch_size, show_progress_bar=True)\n",
    "\n",
    "            for txt, emb in zip(batch, batch_embeddings):\n",
    "                self.emb_d[txt] = emb\n",
    "                _ = self.embedding_cache_manager.load(txt)\n",
    "\n",
    "        "
   ]
  },
  {
   "cell_type": "code",
   "execution_count": 6,
   "id": "1d34f98a-0c63-4e5e-b1b9-e3097882d646",
   "metadata": {},
   "outputs": [],
   "source": [
    "txts = df.question.to_list()[:200]"
   ]
  },
  {
   "cell_type": "code",
   "execution_count": 7,
   "id": "8d4bfe2b-bdf2-4d33-9458-dde9aeb9a6cb",
   "metadata": {},
   "outputs": [],
   "source": [
    "ts = TextSimilarity(txts)"
   ]
  },
  {
   "cell_type": "code",
   "execution_count": 8,
   "id": "693be3ed-6cba-464e-9855-e3f395200369",
   "metadata": {},
   "outputs": [
    {
     "ename": "KeyError",
     "evalue": "'ceshi'",
     "output_type": "error",
     "traceback": [
      "\u001b[0;31m---------------------------------------------------------------------------\u001b[0m",
      "\u001b[0;31mKeyError\u001b[0m                                  Traceback (most recent call last)",
      "Cell \u001b[0;32mIn[8], line 1\u001b[0m\n\u001b[0;32m----> 1\u001b[0m d \u001b[38;5;241m=\u001b[39m \u001b[43mts\u001b[49m\u001b[38;5;241;43m.\u001b[39;49m\u001b[43mhcluster\u001b[49m\u001b[38;5;241;43m.\u001b[39;49m\u001b[43mcluster\u001b[49m\u001b[43m(\u001b[49m\u001b[43m)\u001b[49m\n",
      "File \u001b[0;32m~/repos/ai_album/app/similarity_cluster.py:43\u001b[0m, in \u001b[0;36mHierarchicalCluster.cluster\u001b[0;34m(self, distance_levels)\u001b[0m\n\u001b[1;32m     40\u001b[0m \u001b[38;5;28;01mif\u001b[39;00m \u001b[38;5;28mself\u001b[39m\u001b[38;5;241m.\u001b[39mmedia_size \u001b[38;5;241m<\u001b[39m\u001b[38;5;241m=\u001b[39m \u001b[38;5;241m0\u001b[39m:\n\u001b[1;32m     41\u001b[0m     \u001b[38;5;28;01mreturn\u001b[39;00m {}\n\u001b[0;32m---> 43\u001b[0m embeddings \u001b[38;5;241m=\u001b[39m [\u001b[38;5;241m*\u001b[39m\u001b[38;5;28mmap\u001b[39m(\u001b[38;5;28mself\u001b[39m\u001b[38;5;241m.\u001b[39memb_func, \u001b[38;5;28mself\u001b[39m\u001b[38;5;241m.\u001b[39mdata)]\n\u001b[1;32m     45\u001b[0m \u001b[38;5;28;01mif\u001b[39;00m distance_levels \u001b[38;5;129;01mis\u001b[39;00m \u001b[38;5;28;01mNone\u001b[39;00m:\n\u001b[1;32m     46\u001b[0m     distance_levels \u001b[38;5;241m=\u001b[39m [\u001b[38;5;241m2\u001b[39m, \u001b[38;5;241m0.5\u001b[39m]  \u001b[38;5;66;03m# Default value\u001b[39;00m\n",
      "File \u001b[0;32m~/repos/ai_album/app/cache_manager.py:118\u001b[0m, in \u001b[0;36mCacheManager.load\u001b[0;34m(self, key)\u001b[0m\n\u001b[1;32m    115\u001b[0m \u001b[38;5;28;01melse\u001b[39;00m:\n\u001b[1;32m    116\u001b[0m     \u001b[38;5;66;03m# print(key, cache_file_path)\u001b[39;00m\n\u001b[1;32m    117\u001b[0m     \u001b[38;5;28;01mif\u001b[39;00m \u001b[38;5;129;01mnot\u001b[39;00m os\u001b[38;5;241m.\u001b[39mpath\u001b[38;5;241m.\u001b[39mexists(cache_file_path):\n\u001b[0;32m--> 118\u001b[0m         data \u001b[38;5;241m=\u001b[39m \u001b[38;5;28;43mself\u001b[39;49m\u001b[38;5;241;43m.\u001b[39;49m\u001b[43mgenerate_func\u001b[49m\u001b[43m(\u001b[49m\u001b[43mkey\u001b[49m\u001b[43m)\u001b[49m\n\u001b[1;32m    119\u001b[0m         os\u001b[38;5;241m.\u001b[39mmakedirs(os\u001b[38;5;241m.\u001b[39mpath\u001b[38;5;241m.\u001b[39mdirname(cache_file_path), exist_ok\u001b[38;5;241m=\u001b[39m\u001b[38;5;28;01mTrue\u001b[39;00m)\n\u001b[1;32m    120\u001b[0m         _save(data, cache_file_path)\n",
      "Cell \u001b[0;32mIn[5], line 24\u001b[0m, in \u001b[0;36mTextSimilarity._get_embedding\u001b[0;34m(self, txt)\u001b[0m\n\u001b[1;32m     23\u001b[0m \u001b[38;5;28;01mdef\u001b[39;00m \u001b[38;5;21m_get_embedding\u001b[39m(\u001b[38;5;28mself\u001b[39m, txt):\n\u001b[0;32m---> 24\u001b[0m     \u001b[38;5;28;01mreturn\u001b[39;00m \u001b[38;5;28;43mself\u001b[39;49m\u001b[38;5;241;43m.\u001b[39;49m\u001b[43memb_d\u001b[49m\u001b[43m[\u001b[49m\u001b[43mtxt\u001b[49m\u001b[43m]\u001b[49m\n",
      "\u001b[0;31mKeyError\u001b[0m: 'ceshi'"
     ]
    }
   ],
   "source": [
    "d = ts.hcluster.cluster()"
   ]
  },
  {
   "cell_type": "code",
   "execution_count": 10,
   "id": "05f4ab8a-3a32-45f7-8f86-9e880ce68143",
   "metadata": {},
   "outputs": [
    {
     "data": {
      "text/plain": [
       "'/Users/chengyanru/repos/ai_album/app/data_cache/.similarity_cache/text_similarity_cache/2458370899305644052.npy'"
      ]
     },
     "execution_count": 10,
     "metadata": {},
     "output_type": "execute_result"
    }
   ],
   "source": [
    "ts.embedding_cache_manager._to_cache_path_func('ceshi')"
   ]
  },
  {
   "cell_type": "code",
   "execution_count": 3,
   "id": "eaf17ba7-462a-4af2-b859-87ef579c8479",
   "metadata": {},
   "outputs": [
    {
     "data": {
      "text/html": [
       "<div>\n",
       "<style scoped>\n",
       "    .dataframe tbody tr th:only-of-type {\n",
       "        vertical-align: middle;\n",
       "    }\n",
       "\n",
       "    .dataframe tbody tr th {\n",
       "        vertical-align: top;\n",
       "    }\n",
       "\n",
       "    .dataframe thead th {\n",
       "        text-align: right;\n",
       "    }\n",
       "</style>\n",
       "<table border=\"1\" class=\"dataframe\">\n",
       "  <thead>\n",
       "    <tr style=\"text-align: right;\">\n",
       "      <th></th>\n",
       "      <th>created_at</th>\n",
       "      <th>question</th>\n",
       "      <th>conversation_id</th>\n",
       "      <th>cluster_key</th>\n",
       "      <th>project_id</th>\n",
       "    </tr>\n",
       "  </thead>\n",
       "  <tbody>\n",
       "    <tr>\n",
       "      <th>0</th>\n",
       "      <td>2022/4/28 15:06</td>\n",
       "      <td>ceshi</td>\n",
       "      <td>7</td>\n",
       "      <td>NaN</td>\n",
       "      <td>329</td>\n",
       "    </tr>\n",
       "    <tr>\n",
       "      <th>1</th>\n",
       "      <td>2022/4/28 15:07</td>\n",
       "      <td>yuyuy</td>\n",
       "      <td>8</td>\n",
       "      <td>NaN</td>\n",
       "      <td>329</td>\n",
       "    </tr>\n",
       "    <tr>\n",
       "      <th>2</th>\n",
       "      <td>2022/4/28 15:08</td>\n",
       "      <td>权限</td>\n",
       "      <td>9</td>\n",
       "      <td>NaN</td>\n",
       "      <td>329</td>\n",
       "    </tr>\n",
       "    <tr>\n",
       "      <th>3</th>\n",
       "      <td>2022/4/28 15:08</td>\n",
       "      <td>qewe</td>\n",
       "      <td>10</td>\n",
       "      <td>NaN</td>\n",
       "      <td>329</td>\n",
       "    </tr>\n",
       "    <tr>\n",
       "      <th>4</th>\n",
       "      <td>2022/4/28 15:09</td>\n",
       "      <td>权限</td>\n",
       "      <td>11</td>\n",
       "      <td>NaN</td>\n",
       "      <td>329</td>\n",
       "    </tr>\n",
       "    <tr>\n",
       "      <th>...</th>\n",
       "      <td>...</td>\n",
       "      <td>...</td>\n",
       "      <td>...</td>\n",
       "      <td>...</td>\n",
       "      <td>...</td>\n",
       "    </tr>\n",
       "    <tr>\n",
       "      <th>9995</th>\n",
       "      <td>2022/8/13 11:56</td>\n",
       "      <td>拍抖音白名单接口无法删除和添加</td>\n",
       "      <td>10002</td>\n",
       "      <td>NaN</td>\n",
       "      <td>324</td>\n",
       "    </tr>\n",
       "    <tr>\n",
       "      <th>9996</th>\n",
       "      <td>2022/8/13 12:16</td>\n",
       "      <td>直播间没有多人k歌功能</td>\n",
       "      <td>10003</td>\n",
       "      <td>NaN</td>\n",
       "      <td>311</td>\n",
       "    </tr>\n",
       "    <tr>\n",
       "      <th>9997</th>\n",
       "      <td>2022/8/13 13:01</td>\n",
       "      <td>修改订单状态</td>\n",
       "      <td>10004</td>\n",
       "      <td>NaN</td>\n",
       "      <td>324</td>\n",
       "    </tr>\n",
       "    <tr>\n",
       "      <th>9998</th>\n",
       "      <td>2022/8/13 13:21</td>\n",
       "      <td>直播伴侣画面每次调试好之后依然画面会乱掉 已经万能操作过了</td>\n",
       "      <td>10005</td>\n",
       "      <td>NaN</td>\n",
       "      <td>311</td>\n",
       "    </tr>\n",
       "    <tr>\n",
       "      <th>9999</th>\n",
       "      <td>2022/8/13 13:26</td>\n",
       "      <td>UID  63503960370  直播的时候， 别人有的特效道具自己没有，例如超长西瓜，还...</td>\n",
       "      <td>10006</td>\n",
       "      <td>NaN</td>\n",
       "      <td>311</td>\n",
       "    </tr>\n",
       "  </tbody>\n",
       "</table>\n",
       "<p>10000 rows × 5 columns</p>\n",
       "</div>"
      ],
      "text/plain": [
       "           created_at                                           question  \\\n",
       "0     2022/4/28 15:06                                              ceshi   \n",
       "1     2022/4/28 15:07                                              yuyuy   \n",
       "2     2022/4/28 15:08                                                 权限   \n",
       "3     2022/4/28 15:08                                               qewe   \n",
       "4     2022/4/28 15:09                                                 权限   \n",
       "...               ...                                                ...   \n",
       "9995  2022/8/13 11:56                                    拍抖音白名单接口无法删除和添加   \n",
       "9996  2022/8/13 12:16                                        直播间没有多人k歌功能   \n",
       "9997  2022/8/13 13:01                                             修改订单状态   \n",
       "9998  2022/8/13 13:21                      直播伴侣画面每次调试好之后依然画面会乱掉 已经万能操作过了   \n",
       "9999  2022/8/13 13:26  UID  63503960370  直播的时候， 别人有的特效道具自己没有，例如超长西瓜，还...   \n",
       "\n",
       "      conversation_id  cluster_key  project_id  \n",
       "0                   7          NaN         329  \n",
       "1                   8          NaN         329  \n",
       "2                   9          NaN         329  \n",
       "3                  10          NaN         329  \n",
       "4                  11          NaN         329  \n",
       "...               ...          ...         ...  \n",
       "9995            10002          NaN         324  \n",
       "9996            10003          NaN         311  \n",
       "9997            10004          NaN         324  \n",
       "9998            10005          NaN         311  \n",
       "9999            10006          NaN         311  \n",
       "\n",
       "[10000 rows x 5 columns]"
      ]
     },
     "execution_count": 3,
     "metadata": {},
     "output_type": "execute_result"
    }
   ],
   "source": [
    "df"
   ]
  },
  {
   "cell_type": "code",
   "execution_count": null,
   "id": "7043bfca-7a5d-4720-b732-ddaa485fefc0",
   "metadata": {},
   "outputs": [],
   "source": []
  },
  {
   "cell_type": "code",
   "execution_count": null,
   "id": "84b0aa43-b888-4de5-9550-955bfe1a41bc",
   "metadata": {},
   "outputs": [],
   "source": []
  },
  {
   "cell_type": "code",
   "execution_count": null,
   "id": "983d0d06-979e-4cc2-b2d2-eec73ede5a81",
   "metadata": {},
   "outputs": [],
   "source": []
  },
  {
   "cell_type": "markdown",
   "id": "4f57dee5-91d6-4b28-a2a3-fd54dba03f70",
   "metadata": {},
   "source": [
    "# test"
   ]
  },
  {
   "cell_type": "code",
   "execution_count": 1,
   "id": "5d24b281-d475-4068-a0c0-3021a02cf5f8",
   "metadata": {},
   "outputs": [],
   "source": [
    "import sys\n",
    "\n",
    "sys.path.append('..')\n",
    "from similarities import BertSimilarity\n",
    "\n",
    "sentences = ['如何更换花呗绑定银行卡',\n",
    "             '花呗更改绑定银行卡']\n",
    "corpus = [\n",
    "    '花呗更改绑定银行卡',\n",
    "    '我什么时候开通了花呗',\n",
    "    '俄罗斯警告乌克兰反对欧盟协议',\n",
    "    '暴风雨掩埋了东北部；新泽西16英寸的降雪',\n",
    "    '中央情报局局长访问以色列叙利亚会谈',\n",
    "    '人在巴基斯坦基地的炸弹袭击中丧生',\n",
    "]"
   ]
  },
  {
   "cell_type": "code",
   "execution_count": null,
   "id": "8e9866cb-01a0-4bb5-98b5-76c9fe56d539",
   "metadata": {},
   "outputs": [],
   "source": []
  },
  {
   "cell_type": "code",
   "execution_count": 2,
   "id": "c3c24aba-ed8e-40ce-a773-33d5f1be581d",
   "metadata": {},
   "outputs": [
    {
     "data": {
      "application/vnd.jupyter.widget-view+json": {
       "model_id": "b91e42767466479aa5d42d943dd04ff9",
       "version_major": 2,
       "version_minor": 0
      },
      "text/plain": [
       "tokenizer_config.json:   0%|          | 0.00/319 [00:00<?, ?B/s]"
      ]
     },
     "metadata": {},
     "output_type": "display_data"
    },
    {
     "data": {
      "application/vnd.jupyter.widget-view+json": {
       "model_id": "f6132dbd35b34125a0048976f72080ed",
       "version_major": 2,
       "version_minor": 0
      },
      "text/plain": [
       "vocab.txt:   0%|          | 0.00/110k [00:00<?, ?B/s]"
      ]
     },
     "metadata": {},
     "output_type": "display_data"
    },
    {
     "data": {
      "application/vnd.jupyter.widget-view+json": {
       "model_id": "74d8eb521366405a8db2bac6778fb382",
       "version_major": 2,
       "version_minor": 0
      },
      "text/plain": [
       "special_tokens_map.json:   0%|          | 0.00/112 [00:00<?, ?B/s]"
      ]
     },
     "metadata": {},
     "output_type": "display_data"
    },
    {
     "data": {
      "application/vnd.jupyter.widget-view+json": {
       "model_id": "d9a4134a42f14fac9ab52ebbf013c093",
       "version_major": 2,
       "version_minor": 0
      },
      "text/plain": [
       "config.json:   0%|          | 0.00/856 [00:00<?, ?B/s]"
      ]
     },
     "metadata": {},
     "output_type": "display_data"
    },
    {
     "data": {
      "application/vnd.jupyter.widget-view+json": {
       "model_id": "4db83e22846c44baac6c655cb5860cee",
       "version_major": 2,
       "version_minor": 0
      },
      "text/plain": [
       "pytorch_model.bin:   0%|          | 0.00/409M [00:00<?, ?B/s]"
      ]
     },
     "metadata": {},
     "output_type": "display_data"
    },
    {
     "name": "stderr",
     "output_type": "stream",
     "text": [
      "\u001b[32m2024-01-08 10:24:05.679\u001b[0m | \u001b[34m\u001b[1mDEBUG   \u001b[0m | \u001b[36mtext2vec.sentence_model\u001b[0m:\u001b[36m__init__\u001b[0m:\u001b[36m80\u001b[0m - \u001b[34m\u001b[1mUse device: cpu\u001b[0m\n"
     ]
    },
    {
     "name": "stdout",
     "output_type": "stream",
     "text": [
      "Similarity: BertSimilarity, matching_model: <SentenceModel: shibing624/text2vec-base-chinese, encoder_type: MEAN, max_seq_length: 256, emb_dim: 768>\n",
      "如何更换花呗绑定银行卡 vs 花呗更改绑定银行卡, score: 0.8551\n"
     ]
    }
   ],
   "source": [
    "model = BertSimilarity(model_name_or_path=\"shibing624/text2vec-base-chinese\")\n",
    "print(model)\n",
    "similarity_score = model.similarity(sentences[0], sentences[1])\n",
    "print(f\"{sentences[0]} vs {sentences[1]}, score: {float(similarity_score):.4f}\")"
   ]
  },
  {
   "cell_type": "code",
   "execution_count": 3,
   "id": "fd97876f-6e26-4e56-942a-bdebe349d54e",
   "metadata": {},
   "outputs": [
    {
     "name": "stdout",
     "output_type": "stream",
     "text": [
      "--------------------------------------------------\n",
      "\n"
     ]
    },
    {
     "name": "stderr",
     "output_type": "stream",
     "text": [
      "\u001b[32m2024-01-08 10:24:12.742\u001b[0m | \u001b[1mINFO    \u001b[0m | \u001b[36msimilarities.bert_similarity\u001b[0m:\u001b[36madd_corpus\u001b[0m:\u001b[36m108\u001b[0m - \u001b[1mStart computing corpus embeddings, new docs: 6\u001b[0m\n"
     ]
    },
    {
     "name": "stdout",
     "output_type": "stream",
     "text": [
      "[[0.85514647 0.72119576 0.14502521 0.21666762 0.25171375 0.08089051]\n",
      " [1.0000001  0.6807437  0.17136604 0.21621692 0.27282718 0.12791362]]\n",
      "如何更换花呗绑定银行卡 vs 花呗更改绑定银行卡, score: 0.8551\n",
      "如何更换花呗绑定银行卡 vs 我什么时候开通了花呗, score: 0.7212\n",
      "如何更换花呗绑定银行卡 vs 俄罗斯警告乌克兰反对欧盟协议, score: 0.1450\n",
      "如何更换花呗绑定银行卡 vs 暴风雨掩埋了东北部；新泽西16英寸的降雪, score: 0.2167\n",
      "如何更换花呗绑定银行卡 vs 中央情报局局长访问以色列叙利亚会谈, score: 0.2517\n",
      "如何更换花呗绑定银行卡 vs 人在巴基斯坦基地的炸弹袭击中丧生, score: 0.0809\n",
      "花呗更改绑定银行卡 vs 花呗更改绑定银行卡, score: 1.0000\n",
      "花呗更改绑定银行卡 vs 我什么时候开通了花呗, score: 0.6807\n",
      "花呗更改绑定银行卡 vs 俄罗斯警告乌克兰反对欧盟协议, score: 0.1714\n",
      "花呗更改绑定银行卡 vs 暴风雨掩埋了东北部；新泽西16英寸的降雪, score: 0.2162\n",
      "花呗更改绑定银行卡 vs 中央情报局局长访问以色列叙利亚会谈, score: 0.2728\n",
      "花呗更改绑定银行卡 vs 人在巴基斯坦基地的炸弹袭击中丧生, score: 0.1279\n",
      "--------------------------------------------------\n",
      "\n"
     ]
    },
    {
     "data": {
      "application/vnd.jupyter.widget-view+json": {
       "model_id": "d0de5d52c01841a3851a70699a9436da",
       "version_major": 2,
       "version_minor": 0
      },
      "text/plain": [
       "Batches:   0%|          | 0/1 [00:00<?, ?it/s]"
      ]
     },
     "metadata": {},
     "output_type": "display_data"
    },
    {
     "name": "stderr",
     "output_type": "stream",
     "text": [
      "\u001b[32m2024-01-08 10:24:13.046\u001b[0m | \u001b[1mINFO    \u001b[0m | \u001b[36msimilarities.bert_similarity\u001b[0m:\u001b[36madd_corpus\u001b[0m:\u001b[36m119\u001b[0m - \u001b[1mAdd 6 docs, total: 6, emb len: 6\u001b[0m\n"
     ]
    },
    {
     "name": "stdout",
     "output_type": "stream",
     "text": [
      "{0: {0: 0.8551464676856995, 1: 0.7211957573890686, 4: 0.25171375274658203}, 1: {0: 1.0000001192092896, 1: 0.6807436943054199, 4: 0.2728271782398224}}\n",
      "query: 如何更换花呗绑定银行卡\n",
      "search top 3:\n",
      "\t花呗更改绑定银行卡: 0.8551\n",
      "\t我什么时候开通了花呗: 0.7212\n",
      "\t中央情报局局长访问以色列叙利亚会谈: 0.2517\n",
      "query: 花呗更改绑定银行卡\n",
      "search top 3:\n",
      "\t花呗更改绑定银行卡: 1.0000\n",
      "\t我什么时候开通了花呗: 0.6807\n",
      "\t中央情报局局长访问以色列叙利亚会谈: 0.2728\n",
      "--------------------------------------------------\n",
      "\n",
      "{0: {0: 0.8551464080810547, 1: 0.7211955785751343, 4: 0.2517136335372925}}\n"
     ]
    }
   ],
   "source": [
    "print('-' * 50 + '\\n')\n",
    "# 2.Compute similarity between two list\n",
    "similarity_scores = model.similarity(sentences, corpus)\n",
    "print(similarity_scores.numpy())\n",
    "for i in range(len(sentences)):\n",
    "    for j in range(len(corpus)):\n",
    "        print(f\"{sentences[i]} vs {corpus[j]}, score: {similarity_scores.numpy()[i][j]:.4f}\")\n",
    "\n",
    "print('-' * 50 + '\\n')\n",
    "# 3.Semantic Search\n",
    "model.add_corpus(corpus)\n",
    "res = model.most_similar(queries=sentences, topn=3)\n",
    "print(res)\n",
    "for q_id, id_score_dict in res.items():\n",
    "    print('query:', sentences[q_id])\n",
    "    print(\"search top 3:\")\n",
    "    for corpus_id, s in id_score_dict.items():\n",
    "        print(f'\\t{model.corpus[corpus_id]}: {s:.4f}')\n",
    "\n",
    "print('-' * 50 + '\\n')\n",
    "print(model.search(sentences[0], topn=3))"
   ]
  },
  {
   "cell_type": "code",
   "execution_count": null,
   "id": "4eab33eb-e9ce-4810-8688-b3fde8d29109",
   "metadata": {},
   "outputs": [],
   "source": []
  }
 ],
 "metadata": {
  "kernelspec": {
   "display_name": "Python 3 (ipykernel)",
   "language": "python",
   "name": "python3"
  },
  "language_info": {
   "codemirror_mode": {
    "name": "ipython",
    "version": 3
   },
   "file_extension": ".py",
   "mimetype": "text/x-python",
   "name": "python",
   "nbconvert_exporter": "python",
   "pygments_lexer": "ipython3",
   "version": "3.8.18"
  }
 },
 "nbformat": 4,
 "nbformat_minor": 5
}
