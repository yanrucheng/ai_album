{
 "cells": [
  {
   "cell_type": "code",
   "execution_count": 1,
   "id": "5d24b281-d475-4068-a0c0-3021a02cf5f8",
   "metadata": {},
   "outputs": [],
   "source": [
    "import sys\n",
    "\n",
    "sys.path.append('..')\n",
    "from similarities import BertSimilarity\n",
    "\n",
    "sentences = ['如何更换花呗绑定银行卡',\n",
    "             '花呗更改绑定银行卡']\n",
    "corpus = [\n",
    "    '花呗更改绑定银行卡',\n",
    "    '我什么时候开通了花呗',\n",
    "    '俄罗斯警告乌克兰反对欧盟协议',\n",
    "    '暴风雨掩埋了东北部；新泽西16英寸的降雪',\n",
    "    '中央情报局局长访问以色列叙利亚会谈',\n",
    "    '人在巴基斯坦基地的炸弹袭击中丧生',\n",
    "]"
   ]
  },
  {
   "cell_type": "code",
   "execution_count": 2,
   "id": "c3c24aba-ed8e-40ce-a773-33d5f1be581d",
   "metadata": {},
   "outputs": [
    {
     "data": {
      "application/vnd.jupyter.widget-view+json": {
       "model_id": "b91e42767466479aa5d42d943dd04ff9",
       "version_major": 2,
       "version_minor": 0
      },
      "text/plain": [
       "tokenizer_config.json:   0%|          | 0.00/319 [00:00<?, ?B/s]"
      ]
     },
     "metadata": {},
     "output_type": "display_data"
    },
    {
     "data": {
      "application/vnd.jupyter.widget-view+json": {
       "model_id": "f6132dbd35b34125a0048976f72080ed",
       "version_major": 2,
       "version_minor": 0
      },
      "text/plain": [
       "vocab.txt:   0%|          | 0.00/110k [00:00<?, ?B/s]"
      ]
     },
     "metadata": {},
     "output_type": "display_data"
    },
    {
     "data": {
      "application/vnd.jupyter.widget-view+json": {
       "model_id": "74d8eb521366405a8db2bac6778fb382",
       "version_major": 2,
       "version_minor": 0
      },
      "text/plain": [
       "special_tokens_map.json:   0%|          | 0.00/112 [00:00<?, ?B/s]"
      ]
     },
     "metadata": {},
     "output_type": "display_data"
    },
    {
     "data": {
      "application/vnd.jupyter.widget-view+json": {
       "model_id": "d9a4134a42f14fac9ab52ebbf013c093",
       "version_major": 2,
       "version_minor": 0
      },
      "text/plain": [
       "config.json:   0%|          | 0.00/856 [00:00<?, ?B/s]"
      ]
     },
     "metadata": {},
     "output_type": "display_data"
    },
    {
     "data": {
      "application/vnd.jupyter.widget-view+json": {
       "model_id": "4db83e22846c44baac6c655cb5860cee",
       "version_major": 2,
       "version_minor": 0
      },
      "text/plain": [
       "pytorch_model.bin:   0%|          | 0.00/409M [00:00<?, ?B/s]"
      ]
     },
     "metadata": {},
     "output_type": "display_data"
    },
    {
     "name": "stderr",
     "output_type": "stream",
     "text": [
      "\u001b[32m2024-01-08 10:24:05.679\u001b[0m | \u001b[34m\u001b[1mDEBUG   \u001b[0m | \u001b[36mtext2vec.sentence_model\u001b[0m:\u001b[36m__init__\u001b[0m:\u001b[36m80\u001b[0m - \u001b[34m\u001b[1mUse device: cpu\u001b[0m\n"
     ]
    },
    {
     "name": "stdout",
     "output_type": "stream",
     "text": [
      "Similarity: BertSimilarity, matching_model: <SentenceModel: shibing624/text2vec-base-chinese, encoder_type: MEAN, max_seq_length: 256, emb_dim: 768>\n",
      "如何更换花呗绑定银行卡 vs 花呗更改绑定银行卡, score: 0.8551\n"
     ]
    }
   ],
   "source": [
    "model = BertSimilarity(model_name_or_path=\"shibing624/text2vec-base-chinese\")\n",
    "print(model)\n",
    "similarity_score = model.similarity(sentences[0], sentences[1])\n",
    "print(f\"{sentences[0]} vs {sentences[1]}, score: {float(similarity_score):.4f}\")"
   ]
  },
  {
   "cell_type": "code",
   "execution_count": 3,
   "id": "fd97876f-6e26-4e56-942a-bdebe349d54e",
   "metadata": {},
   "outputs": [
    {
     "name": "stdout",
     "output_type": "stream",
     "text": [
      "--------------------------------------------------\n",
      "\n"
     ]
    },
    {
     "name": "stderr",
     "output_type": "stream",
     "text": [
      "\u001b[32m2024-01-08 10:24:12.742\u001b[0m | \u001b[1mINFO    \u001b[0m | \u001b[36msimilarities.bert_similarity\u001b[0m:\u001b[36madd_corpus\u001b[0m:\u001b[36m108\u001b[0m - \u001b[1mStart computing corpus embeddings, new docs: 6\u001b[0m\n"
     ]
    },
    {
     "name": "stdout",
     "output_type": "stream",
     "text": [
      "[[0.85514647 0.72119576 0.14502521 0.21666762 0.25171375 0.08089051]\n",
      " [1.0000001  0.6807437  0.17136604 0.21621692 0.27282718 0.12791362]]\n",
      "如何更换花呗绑定银行卡 vs 花呗更改绑定银行卡, score: 0.8551\n",
      "如何更换花呗绑定银行卡 vs 我什么时候开通了花呗, score: 0.7212\n",
      "如何更换花呗绑定银行卡 vs 俄罗斯警告乌克兰反对欧盟协议, score: 0.1450\n",
      "如何更换花呗绑定银行卡 vs 暴风雨掩埋了东北部；新泽西16英寸的降雪, score: 0.2167\n",
      "如何更换花呗绑定银行卡 vs 中央情报局局长访问以色列叙利亚会谈, score: 0.2517\n",
      "如何更换花呗绑定银行卡 vs 人在巴基斯坦基地的炸弹袭击中丧生, score: 0.0809\n",
      "花呗更改绑定银行卡 vs 花呗更改绑定银行卡, score: 1.0000\n",
      "花呗更改绑定银行卡 vs 我什么时候开通了花呗, score: 0.6807\n",
      "花呗更改绑定银行卡 vs 俄罗斯警告乌克兰反对欧盟协议, score: 0.1714\n",
      "花呗更改绑定银行卡 vs 暴风雨掩埋了东北部；新泽西16英寸的降雪, score: 0.2162\n",
      "花呗更改绑定银行卡 vs 中央情报局局长访问以色列叙利亚会谈, score: 0.2728\n",
      "花呗更改绑定银行卡 vs 人在巴基斯坦基地的炸弹袭击中丧生, score: 0.1279\n",
      "--------------------------------------------------\n",
      "\n"
     ]
    },
    {
     "data": {
      "application/vnd.jupyter.widget-view+json": {
       "model_id": "d0de5d52c01841a3851a70699a9436da",
       "version_major": 2,
       "version_minor": 0
      },
      "text/plain": [
       "Batches:   0%|          | 0/1 [00:00<?, ?it/s]"
      ]
     },
     "metadata": {},
     "output_type": "display_data"
    },
    {
     "name": "stderr",
     "output_type": "stream",
     "text": [
      "\u001b[32m2024-01-08 10:24:13.046\u001b[0m | \u001b[1mINFO    \u001b[0m | \u001b[36msimilarities.bert_similarity\u001b[0m:\u001b[36madd_corpus\u001b[0m:\u001b[36m119\u001b[0m - \u001b[1mAdd 6 docs, total: 6, emb len: 6\u001b[0m\n"
     ]
    },
    {
     "name": "stdout",
     "output_type": "stream",
     "text": [
      "{0: {0: 0.8551464676856995, 1: 0.7211957573890686, 4: 0.25171375274658203}, 1: {0: 1.0000001192092896, 1: 0.6807436943054199, 4: 0.2728271782398224}}\n",
      "query: 如何更换花呗绑定银行卡\n",
      "search top 3:\n",
      "\t花呗更改绑定银行卡: 0.8551\n",
      "\t我什么时候开通了花呗: 0.7212\n",
      "\t中央情报局局长访问以色列叙利亚会谈: 0.2517\n",
      "query: 花呗更改绑定银行卡\n",
      "search top 3:\n",
      "\t花呗更改绑定银行卡: 1.0000\n",
      "\t我什么时候开通了花呗: 0.6807\n",
      "\t中央情报局局长访问以色列叙利亚会谈: 0.2728\n",
      "--------------------------------------------------\n",
      "\n",
      "{0: {0: 0.8551464080810547, 1: 0.7211955785751343, 4: 0.2517136335372925}}\n"
     ]
    }
   ],
   "source": [
    "print('-' * 50 + '\\n')\n",
    "# 2.Compute similarity between two list\n",
    "similarity_scores = model.similarity(sentences, corpus)\n",
    "print(similarity_scores.numpy())\n",
    "for i in range(len(sentences)):\n",
    "    for j in range(len(corpus)):\n",
    "        print(f\"{sentences[i]} vs {corpus[j]}, score: {similarity_scores.numpy()[i][j]:.4f}\")\n",
    "\n",
    "print('-' * 50 + '\\n')\n",
    "# 3.Semantic Search\n",
    "model.add_corpus(corpus)\n",
    "res = model.most_similar(queries=sentences, topn=3)\n",
    "print(res)\n",
    "for q_id, id_score_dict in res.items():\n",
    "    print('query:', sentences[q_id])\n",
    "    print(\"search top 3:\")\n",
    "    for corpus_id, s in id_score_dict.items():\n",
    "        print(f'\\t{model.corpus[corpus_id]}: {s:.4f}')\n",
    "\n",
    "print('-' * 50 + '\\n')\n",
    "print(model.search(sentences[0], topn=3))"
   ]
  },
  {
   "cell_type": "code",
   "execution_count": null,
   "id": "4eab33eb-e9ce-4810-8688-b3fde8d29109",
   "metadata": {},
   "outputs": [],
   "source": []
  }
 ],
 "metadata": {
  "kernelspec": {
   "display_name": "Python 3 (ipykernel)",
   "language": "python",
   "name": "python3"
  },
  "language_info": {
   "codemirror_mode": {
    "name": "ipython",
    "version": 3
   },
   "file_extension": ".py",
   "mimetype": "text/x-python",
   "name": "python",
   "nbconvert_exporter": "python",
   "pygments_lexer": "ipython3",
   "version": "3.8.18"
  }
 },
 "nbformat": 4,
 "nbformat_minor": 5
}
