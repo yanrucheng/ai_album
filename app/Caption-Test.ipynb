{
 "cells": [
  {
   "cell_type": "code",
   "execution_count": 1,
   "id": "6b67e092-a573-4b1c-9d2d-1093f2938449",
   "metadata": {},
   "outputs": [],
   "source": [
    "from PIL import Image\n",
    "import myllm"
   ]
  },
  {
   "cell_type": "markdown",
   "id": "74ffff78-ad6e-4d38-a083-60323051bc0f",
   "metadata": {},
   "source": [
    "## Chinese caption test: result: bad"
   ]
  },
  {
   "cell_type": "code",
   "execution_count": 2,
   "id": "08b9a4d1-6155-453d-8712-dccf61e5f528",
   "metadata": {},
   "outputs": [],
   "source": [
    "img = None\n",
    "with Image.open('/Users/chengyanru/Downloads/data/.similarity_cache/SPC-20240111/VID_20231122_143012_thumbnail_7b28dbeceb9fe4c09ae0b3b01ad826db.jpg'\n",
    "               ) as img_:\n",
    "    img_.load()\n",
    "    img = img_\n",
    "    "
   ]
  },
  {
   "cell_type": "code",
   "execution_count": 3,
   "id": "984276f3-4333-4354-8055-8f6bf4cb4d60",
   "metadata": {},
   "outputs": [
    {
     "name": "stdout",
     "output_type": "stream",
     "text": [
      "Loading  yuanzhoulvpi/vit-gpt2-image-chinese-captioning\n"
     ]
    },
    {
     "name": "stderr",
     "output_type": "stream",
     "text": [
      "/Users/chengyanru/.miniconda3/envs/ai_album/lib/python3.8/site-packages/transformers/generation/utils.py:1186: UserWarning: You have modified the pretrained model configuration to control generation. This is a deprecated strategy to control generation and will be removed soon, in a future version. Please use a generation configuration file (see https://huggingface.co/docs/transformers/main_classes/text_generation)\n",
      "  warnings.warn(\n"
     ]
    },
    {
     "data": {
      "text/plain": [
       "['这 个 夏 天, 我 们 一 起 来 看 看 吧!']"
      ]
     },
     "execution_count": 3,
     "metadata": {},
     "output_type": "execute_result"
    }
   ],
   "source": [
    "c = myllm.ImageCaptionerChinese()\n",
    "\n",
    "c.caption(img)"
   ]
  },
  {
   "cell_type": "code",
   "execution_count": null,
   "id": "97a2b1ff-afab-4a09-9919-05eb77a640fc",
   "metadata": {},
   "outputs": [],
   "source": []
  },
  {
   "cell_type": "markdown",
   "id": "35877b7c-785a-434d-b479-a32702e0e2dc",
   "metadata": {},
   "source": [
    "## Chinese translation test"
   ]
  },
  {
   "cell_type": "code",
   "execution_count": 2,
   "id": "88cb8133-c452-4198-ac6b-c556dd23fd64",
   "metadata": {},
   "outputs": [],
   "source": [
    "t = myllm.MyTranslator()"
   ]
  },
  {
   "cell_type": "code",
   "execution_count": 3,
   "id": "3810ac40-9fd2-4817-80f0-6372ca07010f",
   "metadata": {},
   "outputs": [
    {
     "name": "stderr",
     "output_type": "stream",
     "text": [
      "/Users/chengyanru/.miniconda3/envs/ai_album/lib/python3.8/site-packages/transformers/models/auto/modeling_auto.py:1248: FutureWarning: The class `AutoModelWithLMHead` is deprecated and will be removed in a future version. Please use `AutoModelForCausalLM` for causal language models, `AutoModelForMaskedLM` for masked language models and `AutoModelForSeq2SeqLM` for encoder-decoder models.\n",
      "  warnings.warn(\n",
      "/Users/chengyanru/.miniconda3/envs/ai_album/lib/python3.8/site-packages/transformers/models/marian/tokenization_marian.py:194: UserWarning: Recommended: pip install sacremoses.\n",
      "  warnings.warn(\"Recommended: pip install sacremoses.\")\n"
     ]
    },
    {
     "data": {
      "text/plain": [
       "'灰墙前的一个人'"
      ]
     },
     "execution_count": 3,
     "metadata": {},
     "output_type": "execute_result"
    }
   ],
   "source": [
    "t.translate('A Man Standing In Front Of A Gray Wall')"
   ]
  },
  {
   "cell_type": "code",
   "execution_count": null,
   "id": "29e18701-d8e1-47b3-804c-d35d3baae351",
   "metadata": {},
   "outputs": [],
   "source": []
  }
 ],
 "metadata": {
  "kernelspec": {
   "display_name": "Python 3 (ipykernel)",
   "language": "python",
   "name": "python3"
  },
  "language_info": {
   "codemirror_mode": {
    "name": "ipython",
    "version": 3
   },
   "file_extension": ".py",
   "mimetype": "text/x-python",
   "name": "python",
   "nbconvert_exporter": "python",
   "pygments_lexer": "ipython3",
   "version": "3.8.18"
  }
 },
 "nbformat": 4,
 "nbformat_minor": 5
}
